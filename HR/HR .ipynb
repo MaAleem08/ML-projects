{
 "cells": [
  {
   "cell_type": "code",
   "execution_count": 55,
   "id": "b00b453e",
   "metadata": {},
   "outputs": [],
   "source": [
    "import pandas as pd \n",
    "import numpy as np\n",
    "import warnings\n",
    "warnings.filterwarnings(\"ignore\")"
   ]
  },
  {
   "cell_type": "code",
   "execution_count": 56,
   "id": "c4d4e958",
   "metadata": {
    "scrolled": false
   },
   "outputs": [
    {
     "data": {
      "text/html": [
       "<div>\n",
       "<style scoped>\n",
       "    .dataframe tbody tr th:only-of-type {\n",
       "        vertical-align: middle;\n",
       "    }\n",
       "\n",
       "    .dataframe tbody tr th {\n",
       "        vertical-align: top;\n",
       "    }\n",
       "\n",
       "    .dataframe thead th {\n",
       "        text-align: right;\n",
       "    }\n",
       "</style>\n",
       "<table border=\"1\" class=\"dataframe\">\n",
       "  <thead>\n",
       "    <tr style=\"text-align: right;\">\n",
       "      <th></th>\n",
       "      <th>employee_id</th>\n",
       "      <th>department</th>\n",
       "      <th>region</th>\n",
       "      <th>education</th>\n",
       "      <th>gender</th>\n",
       "      <th>recruitment_channel</th>\n",
       "      <th>no_of_trainings</th>\n",
       "      <th>age</th>\n",
       "      <th>previous_year_rating</th>\n",
       "      <th>length_of_service</th>\n",
       "      <th>KPIs_met &gt;80%</th>\n",
       "      <th>awards_won?</th>\n",
       "      <th>avg_training_score</th>\n",
       "      <th>is_promoted</th>\n",
       "    </tr>\n",
       "  </thead>\n",
       "  <tbody>\n",
       "    <tr>\n",
       "      <th>0</th>\n",
       "      <td>65438</td>\n",
       "      <td>Sales &amp; Marketing</td>\n",
       "      <td>region_7</td>\n",
       "      <td>Master's &amp; above</td>\n",
       "      <td>f</td>\n",
       "      <td>sourcing</td>\n",
       "      <td>1</td>\n",
       "      <td>35</td>\n",
       "      <td>5.0</td>\n",
       "      <td>8</td>\n",
       "      <td>1</td>\n",
       "      <td>0</td>\n",
       "      <td>49</td>\n",
       "      <td>0</td>\n",
       "    </tr>\n",
       "    <tr>\n",
       "      <th>1</th>\n",
       "      <td>65141</td>\n",
       "      <td>Operations</td>\n",
       "      <td>region_22</td>\n",
       "      <td>Bachelor's</td>\n",
       "      <td>m</td>\n",
       "      <td>other</td>\n",
       "      <td>1</td>\n",
       "      <td>30</td>\n",
       "      <td>5.0</td>\n",
       "      <td>4</td>\n",
       "      <td>0</td>\n",
       "      <td>0</td>\n",
       "      <td>60</td>\n",
       "      <td>0</td>\n",
       "    </tr>\n",
       "    <tr>\n",
       "      <th>2</th>\n",
       "      <td>7513</td>\n",
       "      <td>Sales &amp; Marketing</td>\n",
       "      <td>region_19</td>\n",
       "      <td>Bachelor's</td>\n",
       "      <td>m</td>\n",
       "      <td>sourcing</td>\n",
       "      <td>1</td>\n",
       "      <td>34</td>\n",
       "      <td>3.0</td>\n",
       "      <td>7</td>\n",
       "      <td>0</td>\n",
       "      <td>0</td>\n",
       "      <td>50</td>\n",
       "      <td>0</td>\n",
       "    </tr>\n",
       "    <tr>\n",
       "      <th>3</th>\n",
       "      <td>2542</td>\n",
       "      <td>Sales &amp; Marketing</td>\n",
       "      <td>region_23</td>\n",
       "      <td>Bachelor's</td>\n",
       "      <td>m</td>\n",
       "      <td>other</td>\n",
       "      <td>2</td>\n",
       "      <td>39</td>\n",
       "      <td>1.0</td>\n",
       "      <td>10</td>\n",
       "      <td>0</td>\n",
       "      <td>0</td>\n",
       "      <td>50</td>\n",
       "      <td>0</td>\n",
       "    </tr>\n",
       "    <tr>\n",
       "      <th>4</th>\n",
       "      <td>48945</td>\n",
       "      <td>Technology</td>\n",
       "      <td>region_26</td>\n",
       "      <td>Bachelor's</td>\n",
       "      <td>m</td>\n",
       "      <td>other</td>\n",
       "      <td>1</td>\n",
       "      <td>45</td>\n",
       "      <td>3.0</td>\n",
       "      <td>2</td>\n",
       "      <td>0</td>\n",
       "      <td>0</td>\n",
       "      <td>73</td>\n",
       "      <td>0</td>\n",
       "    </tr>\n",
       "    <tr>\n",
       "      <th>5</th>\n",
       "      <td>58896</td>\n",
       "      <td>Analytics</td>\n",
       "      <td>region_2</td>\n",
       "      <td>Bachelor's</td>\n",
       "      <td>m</td>\n",
       "      <td>sourcing</td>\n",
       "      <td>2</td>\n",
       "      <td>31</td>\n",
       "      <td>3.0</td>\n",
       "      <td>7</td>\n",
       "      <td>0</td>\n",
       "      <td>0</td>\n",
       "      <td>85</td>\n",
       "      <td>0</td>\n",
       "    </tr>\n",
       "    <tr>\n",
       "      <th>6</th>\n",
       "      <td>20379</td>\n",
       "      <td>Operations</td>\n",
       "      <td>region_20</td>\n",
       "      <td>Bachelor's</td>\n",
       "      <td>f</td>\n",
       "      <td>other</td>\n",
       "      <td>1</td>\n",
       "      <td>31</td>\n",
       "      <td>3.0</td>\n",
       "      <td>5</td>\n",
       "      <td>0</td>\n",
       "      <td>0</td>\n",
       "      <td>59</td>\n",
       "      <td>0</td>\n",
       "    </tr>\n",
       "    <tr>\n",
       "      <th>7</th>\n",
       "      <td>16290</td>\n",
       "      <td>Operations</td>\n",
       "      <td>region_34</td>\n",
       "      <td>Master's &amp; above</td>\n",
       "      <td>m</td>\n",
       "      <td>sourcing</td>\n",
       "      <td>1</td>\n",
       "      <td>33</td>\n",
       "      <td>3.0</td>\n",
       "      <td>6</td>\n",
       "      <td>0</td>\n",
       "      <td>0</td>\n",
       "      <td>63</td>\n",
       "      <td>0</td>\n",
       "    </tr>\n",
       "    <tr>\n",
       "      <th>8</th>\n",
       "      <td>73202</td>\n",
       "      <td>Analytics</td>\n",
       "      <td>region_20</td>\n",
       "      <td>Bachelor's</td>\n",
       "      <td>m</td>\n",
       "      <td>other</td>\n",
       "      <td>1</td>\n",
       "      <td>28</td>\n",
       "      <td>4.0</td>\n",
       "      <td>5</td>\n",
       "      <td>0</td>\n",
       "      <td>0</td>\n",
       "      <td>83</td>\n",
       "      <td>0</td>\n",
       "    </tr>\n",
       "    <tr>\n",
       "      <th>9</th>\n",
       "      <td>28911</td>\n",
       "      <td>Sales &amp; Marketing</td>\n",
       "      <td>region_1</td>\n",
       "      <td>Master's &amp; above</td>\n",
       "      <td>m</td>\n",
       "      <td>sourcing</td>\n",
       "      <td>1</td>\n",
       "      <td>32</td>\n",
       "      <td>5.0</td>\n",
       "      <td>5</td>\n",
       "      <td>1</td>\n",
       "      <td>0</td>\n",
       "      <td>54</td>\n",
       "      <td>0</td>\n",
       "    </tr>\n",
       "  </tbody>\n",
       "</table>\n",
       "</div>"
      ],
      "text/plain": [
       "   employee_id         department     region         education gender   \n",
       "0        65438  Sales & Marketing   region_7  Master's & above      f  \\\n",
       "1        65141         Operations  region_22        Bachelor's      m   \n",
       "2         7513  Sales & Marketing  region_19        Bachelor's      m   \n",
       "3         2542  Sales & Marketing  region_23        Bachelor's      m   \n",
       "4        48945         Technology  region_26        Bachelor's      m   \n",
       "5        58896          Analytics   region_2        Bachelor's      m   \n",
       "6        20379         Operations  region_20        Bachelor's      f   \n",
       "7        16290         Operations  region_34  Master's & above      m   \n",
       "8        73202          Analytics  region_20        Bachelor's      m   \n",
       "9        28911  Sales & Marketing   region_1  Master's & above      m   \n",
       "\n",
       "  recruitment_channel  no_of_trainings  age  previous_year_rating   \n",
       "0            sourcing                1   35                   5.0  \\\n",
       "1               other                1   30                   5.0   \n",
       "2            sourcing                1   34                   3.0   \n",
       "3               other                2   39                   1.0   \n",
       "4               other                1   45                   3.0   \n",
       "5            sourcing                2   31                   3.0   \n",
       "6               other                1   31                   3.0   \n",
       "7            sourcing                1   33                   3.0   \n",
       "8               other                1   28                   4.0   \n",
       "9            sourcing                1   32                   5.0   \n",
       "\n",
       "   length_of_service  KPIs_met >80%  awards_won?  avg_training_score   \n",
       "0                  8              1            0                  49  \\\n",
       "1                  4              0            0                  60   \n",
       "2                  7              0            0                  50   \n",
       "3                 10              0            0                  50   \n",
       "4                  2              0            0                  73   \n",
       "5                  7              0            0                  85   \n",
       "6                  5              0            0                  59   \n",
       "7                  6              0            0                  63   \n",
       "8                  5              0            0                  83   \n",
       "9                  5              1            0                  54   \n",
       "\n",
       "   is_promoted  \n",
       "0            0  \n",
       "1            0  \n",
       "2            0  \n",
       "3            0  \n",
       "4            0  \n",
       "5            0  \n",
       "6            0  \n",
       "7            0  \n",
       "8            0  \n",
       "9            0  "
      ]
     },
     "execution_count": 56,
     "metadata": {},
     "output_type": "execute_result"
    }
   ],
   "source": [
    "df = pd.read_csv(\"C:/Users/Lenovo/Downloads/train_LZdllcl.csv\")\n",
    "df.head(10)"
   ]
  },
  {
   "cell_type": "code",
   "execution_count": 57,
   "id": "962e56b9",
   "metadata": {},
   "outputs": [
    {
     "data": {
      "text/plain": [
       "(54808, 14)"
      ]
     },
     "execution_count": 57,
     "metadata": {},
     "output_type": "execute_result"
    }
   ],
   "source": [
    "df.shape"
   ]
  },
  {
   "cell_type": "code",
   "execution_count": 58,
   "id": "4e30ec62",
   "metadata": {},
   "outputs": [
    {
     "data": {
      "text/plain": [
       "Index(['employee_id', 'department', 'region', 'education', 'gender',\n",
       "       'recruitment_channel', 'no_of_trainings', 'age', 'previous_year_rating',\n",
       "       'length_of_service', 'KPIs_met >80%', 'awards_won?',\n",
       "       'avg_training_score', 'is_promoted'],\n",
       "      dtype='object')"
      ]
     },
     "execution_count": 58,
     "metadata": {},
     "output_type": "execute_result"
    }
   ],
   "source": [
    "df.columns"
   ]
  },
  {
   "cell_type": "code",
   "execution_count": 59,
   "id": "521b99ec",
   "metadata": {},
   "outputs": [
    {
     "data": {
      "text/plain": [
       "employee_id                0\n",
       "department                 0\n",
       "region                     0\n",
       "education               2409\n",
       "gender                     0\n",
       "recruitment_channel        0\n",
       "no_of_trainings            0\n",
       "age                        0\n",
       "previous_year_rating    4124\n",
       "length_of_service          0\n",
       "KPIs_met >80%              0\n",
       "awards_won?                0\n",
       "avg_training_score         0\n",
       "is_promoted                0\n",
       "dtype: int64"
      ]
     },
     "execution_count": 59,
     "metadata": {},
     "output_type": "execute_result"
    }
   ],
   "source": [
    "df.isna().sum()"
   ]
  },
  {
   "cell_type": "code",
   "execution_count": 60,
   "id": "64437553",
   "metadata": {},
   "outputs": [],
   "source": [
    "# renaming two columns \"awards_won?\" and \"KPIs_met >80%\"\n",
    "\n",
    "df.rename(columns = {'awards_won?':'awards_won',\"KPIs_met >80%\":\"kpi_abv_80\"},inplace=True)"
   ]
  },
  {
   "cell_type": "code",
   "execution_count": 61,
   "id": "184b77ea",
   "metadata": {},
   "outputs": [
    {
     "data": {
      "text/plain": [
       "education\n",
       "Bachelor's          25815\n",
       "Master's & above    10147\n",
       "Below Secondary       516\n",
       "Name: count, dtype: int64"
      ]
     },
     "execution_count": 61,
     "metadata": {},
     "output_type": "execute_result"
    }
   ],
   "source": [
    "# we  have null values in education and previous year rating.\n",
    "# we are flling the null with respetive to the gender\n",
    "\n",
    "df[df[\"gender\"]==\"m\"]['education'].value_counts()"
   ]
  },
  {
   "cell_type": "code",
   "execution_count": 62,
   "id": "d1b76678",
   "metadata": {
    "scrolled": true
   },
   "outputs": [
    {
     "data": {
      "text/plain": [
       "education\n",
       "Bachelor's          10854\n",
       "Master's & above     4778\n",
       "Below Secondary       289\n",
       "Name: count, dtype: int64"
      ]
     },
     "execution_count": 62,
     "metadata": {},
     "output_type": "execute_result"
    }
   ],
   "source": [
    "df[df[\"gender\"]==\"f\"]['education'].value_counts()"
   ]
  },
  {
   "cell_type": "code",
   "execution_count": 63,
   "id": "2fcc2cc0",
   "metadata": {},
   "outputs": [],
   "source": [
    "# as we can see above the most repeated values in education with respect to gender is \"bahcelor's\"  for both male and female\n",
    "\n",
    "df['education'].fillna(\"Bachelor's\",inplace=True)"
   ]
  },
  {
   "cell_type": "code",
   "execution_count": 64,
   "id": "a8d9b405",
   "metadata": {},
   "outputs": [],
   "source": [
    "# education is an ordinal variable we are allocating values from 0 to 2 , where 2 refers highest study and 0 is lowest\n",
    "\n",
    "df.education.replace({\"Bachelor's\":1,\"Master's & above\":2,\"Below Secondary\":0},inplace=True)"
   ]
  },
  {
   "cell_type": "code",
   "execution_count": 65,
   "id": "88f42ca6",
   "metadata": {},
   "outputs": [
    {
     "data": {
      "text/plain": [
       "previous_year_rating\n",
       "3.0    12985\n",
       "5.0     8139\n",
       "4.0     6840\n",
       "1.0     4562\n",
       "2.0     3004\n",
       "Name: count, dtype: int64"
      ]
     },
     "execution_count": 65,
     "metadata": {},
     "output_type": "execute_result"
    }
   ],
   "source": [
    "# the thing we have done in case of educaition we are also doing the same for previous year rating\n",
    "\n",
    "df[df[\"gender\"]==\"m\"].previous_year_rating.value_counts()"
   ]
  },
  {
   "cell_type": "code",
   "execution_count": 66,
   "id": "10b17168",
   "metadata": {},
   "outputs": [
    {
     "data": {
      "text/plain": [
       "previous_year_rating\n",
       "3.0    5633\n",
       "5.0    3602\n",
       "4.0    3037\n",
       "1.0    1661\n",
       "2.0    1221\n",
       "Name: count, dtype: int64"
      ]
     },
     "execution_count": 66,
     "metadata": {},
     "output_type": "execute_result"
    }
   ],
   "source": [
    "df[df[\"gender\"]==\"f\"].previous_year_rating.value_counts()"
   ]
  },
  {
   "cell_type": "code",
   "execution_count": 67,
   "id": "62a3056e",
   "metadata": {},
   "outputs": [],
   "source": [
    "# mot repeated value for prvious year reating regard for both males and females is 3.0\n",
    "\n",
    "df.previous_year_rating.fillna(3.0,inplace=True)"
   ]
  },
  {
   "cell_type": "code",
   "execution_count": 68,
   "id": "5e250979",
   "metadata": {},
   "outputs": [
    {
     "data": {
      "text/plain": [
       "array([49, 60, 50, 73, 85, 59, 63, 83, 54, 77, 80, 84, 51, 46, 75, 57, 70,\n",
       "       68, 79, 44, 72, 61, 48, 58, 87, 47, 52, 88, 71, 65, 62, 53, 78, 91,\n",
       "       82, 69, 55, 74, 86, 90, 92, 67, 89, 56, 76, 81, 45, 64, 39, 94, 93,\n",
       "       66, 95, 42, 96, 40, 99, 43, 97, 41, 98], dtype=int64)"
      ]
     },
     "execution_count": 68,
     "metadata": {},
     "output_type": "execute_result"
    }
   ],
   "source": [
    "df.avg_training_score.unique()"
   ]
  },
  {
   "cell_type": "code",
   "execution_count": 69,
   "id": "99dc10e6",
   "metadata": {},
   "outputs": [],
   "source": [
    "# in this case training score is an ordinal variable and we have many values that would cause difficulty for our model .\n",
    "# so we are grouping the values under certian ranges  \n",
    "\n",
    "cut_name = range(10)\n",
    "\n",
    "df['traing_score'] = pd.cut(df.avg_training_score,10,labels = cut_name)"
   ]
  },
  {
   "cell_type": "code",
   "execution_count": 70,
   "id": "37a84590",
   "metadata": {},
   "outputs": [],
   "source": [
    "# droping the \"avg_training_score\" as we have gpt a new one\n",
    "\n",
    "df.drop('avg_training_score',axis = 1,inplace=True)"
   ]
  },
  {
   "cell_type": "code",
   "execution_count": 71,
   "id": "8340bb10",
   "metadata": {},
   "outputs": [
    {
     "data": {
      "text/plain": [
       "count    54808.000000\n",
       "mean        34.803915\n",
       "std          7.660169\n",
       "min         20.000000\n",
       "25%         29.000000\n",
       "50%         33.000000\n",
       "75%         39.000000\n",
       "max         60.000000\n",
       "Name: age, dtype: float64"
      ]
     },
     "execution_count": 71,
     "metadata": {},
     "output_type": "execute_result"
    }
   ],
   "source": [
    "df.age.describe()"
   ]
  },
  {
   "cell_type": "code",
   "execution_count": 72,
   "id": "9d2d7cc3",
   "metadata": {},
   "outputs": [
    {
     "data": {
      "text/plain": [
       "<AxesSubplot:>"
      ]
     },
     "execution_count": 72,
     "metadata": {},
     "output_type": "execute_result"
    },
    {
     "data": {
      "image/png": "[encoded data removed]",
      "text/plain": [
       "<Figure size 400x400 with 1 Axes>"
      ]
     },
     "metadata": {},
     "output_type": "display_data"
    }
   ],
   "source": [
    "df.age.plot(kind = 'box',figsize = (4,4))"
   ]
  },
  {
   "cell_type": "code",
   "execution_count": 73,
   "id": "d1b74972",
   "metadata": {},
   "outputs": [],
   "source": [
    "# if employee age is above 60 we would have considered it to be an outlier as they reached the age of retirement. \n",
    "# but again retirement age varies in countries \n",
    "# many countries allow the employee age till 65 ,so we dont consider age 60 as an outlier here"
   ]
  },
  {
   "cell_type": "code",
   "execution_count": 74,
   "id": "1a8702d4",
   "metadata": {
    "scrolled": true
   },
   "outputs": [
    {
     "data": {
      "text/plain": [
       "length_of_service\n",
       "3     7033\n",
       "4     6836\n",
       "2     6684\n",
       "5     5832\n",
       "7     5551\n",
       "6     4734\n",
       "1     4547\n",
       "8     2883\n",
       "9     2629\n",
       "10    2193\n",
       "11     916\n",
       "12     794\n",
       "13     687\n",
       "15     593\n",
       "14     549\n",
       "16     548\n",
       "17     432\n",
       "18     392\n",
       "19     329\n",
       "20     128\n",
       "21      78\n",
       "24      70\n",
       "23      65\n",
       "22      61\n",
       "25      51\n",
       "26      41\n",
       "27      36\n",
       "28      30\n",
       "29      30\n",
       "31      20\n",
       "30      12\n",
       "32      10\n",
       "33       9\n",
       "34       4\n",
       "37       1\n",
       "Name: count, dtype: int64"
      ]
     },
     "execution_count": 74,
     "metadata": {},
     "output_type": "execute_result"
    }
   ],
   "source": [
    "df.length_of_service.value_counts()"
   ]
  },
  {
   "cell_type": "code",
   "execution_count": 75,
   "id": "cd1aa6a9",
   "metadata": {},
   "outputs": [],
   "source": [
    "# the thing we did for training_score , doing the same here as length of service has many values\n",
    "# if it was a continuous variable we would not have done this step\n",
    "\n",
    "cut_name = range(10)\n",
    "df.length_of_service = pd.cut(df.length_of_service,bins = 10 , labels=cut_name)"
   ]
  },
  {
   "cell_type": "code",
   "execution_count": 76,
   "id": "2e278493",
   "metadata": {},
   "outputs": [
    {
     "data": {
      "text/plain": [
       "length_of_service\n",
       "0    25100\n",
       "1    19000\n",
       "2     5738\n",
       "3     2623\n",
       "4     1701\n",
       "5      267\n",
       "6      227\n",
       "7       96\n",
       "8       51\n",
       "9        5\n",
       "Name: count, dtype: int64"
      ]
     },
     "execution_count": 76,
     "metadata": {},
     "output_type": "execute_result"
    }
   ],
   "source": [
    "df.length_of_service.value_counts()"
   ]
  },
  {
   "cell_type": "code",
   "execution_count": 77,
   "id": "47ca4711",
   "metadata": {},
   "outputs": [],
   "source": [
    "# age provided here is a discrete variable .\n",
    "# so for the  model it is better to convert them to bins as we have large number of  unique values in this age varaible\n",
    "cut_name = range(10)\n",
    "df.age = pd.cut(df.age,bins = 10 , labels=cut_name)"
   ]
  },
  {
   "cell_type": "code",
   "execution_count": 78,
   "id": "e7f428aa",
   "metadata": {},
   "outputs": [
    {
     "data": {
      "text/html": [
       "<div>\n",
       "<style scoped>\n",
       "    .dataframe tbody tr th:only-of-type {\n",
       "        vertical-align: middle;\n",
       "    }\n",
       "\n",
       "    .dataframe tbody tr th {\n",
       "        vertical-align: top;\n",
       "    }\n",
       "\n",
       "    .dataframe thead th {\n",
       "        text-align: right;\n",
       "    }\n",
       "</style>\n",
       "<table border=\"1\" class=\"dataframe\">\n",
       "  <thead>\n",
       "    <tr style=\"text-align: right;\">\n",
       "      <th></th>\n",
       "      <th>education</th>\n",
       "      <th>no_of_trainings</th>\n",
       "      <th>age</th>\n",
       "      <th>previous_year_rating</th>\n",
       "      <th>length_of_service</th>\n",
       "      <th>kpi_abv_80</th>\n",
       "      <th>awards_won</th>\n",
       "      <th>is_promoted</th>\n",
       "      <th>traing_score</th>\n",
       "      <th>dept_Finance</th>\n",
       "      <th>...</th>\n",
       "      <th>region_region_31</th>\n",
       "      <th>region_region_32</th>\n",
       "      <th>region_region_33</th>\n",
       "      <th>region_region_34</th>\n",
       "      <th>region_region_4</th>\n",
       "      <th>region_region_5</th>\n",
       "      <th>region_region_6</th>\n",
       "      <th>region_region_7</th>\n",
       "      <th>region_region_8</th>\n",
       "      <th>region_region_9</th>\n",
       "    </tr>\n",
       "  </thead>\n",
       "  <tbody>\n",
       "    <tr>\n",
       "      <th>0</th>\n",
       "      <td>2</td>\n",
       "      <td>1</td>\n",
       "      <td>3</td>\n",
       "      <td>5.0</td>\n",
       "      <td>1</td>\n",
       "      <td>1</td>\n",
       "      <td>0</td>\n",
       "      <td>0</td>\n",
       "      <td>1</td>\n",
       "      <td>0</td>\n",
       "      <td>...</td>\n",
       "      <td>0</td>\n",
       "      <td>0</td>\n",
       "      <td>0</td>\n",
       "      <td>0</td>\n",
       "      <td>0</td>\n",
       "      <td>0</td>\n",
       "      <td>0</td>\n",
       "      <td>1</td>\n",
       "      <td>0</td>\n",
       "      <td>0</td>\n",
       "    </tr>\n",
       "    <tr>\n",
       "      <th>1</th>\n",
       "      <td>1</td>\n",
       "      <td>1</td>\n",
       "      <td>2</td>\n",
       "      <td>5.0</td>\n",
       "      <td>0</td>\n",
       "      <td>0</td>\n",
       "      <td>0</td>\n",
       "      <td>0</td>\n",
       "      <td>3</td>\n",
       "      <td>0</td>\n",
       "      <td>...</td>\n",
       "      <td>0</td>\n",
       "      <td>0</td>\n",
       "      <td>0</td>\n",
       "      <td>0</td>\n",
       "      <td>0</td>\n",
       "      <td>0</td>\n",
       "      <td>0</td>\n",
       "      <td>0</td>\n",
       "      <td>0</td>\n",
       "      <td>0</td>\n",
       "    </tr>\n",
       "    <tr>\n",
       "      <th>2</th>\n",
       "      <td>1</td>\n",
       "      <td>1</td>\n",
       "      <td>3</td>\n",
       "      <td>3.0</td>\n",
       "      <td>1</td>\n",
       "      <td>0</td>\n",
       "      <td>0</td>\n",
       "      <td>0</td>\n",
       "      <td>1</td>\n",
       "      <td>0</td>\n",
       "      <td>...</td>\n",
       "      <td>0</td>\n",
       "      <td>0</td>\n",
       "      <td>0</td>\n",
       "      <td>0</td>\n",
       "      <td>0</td>\n",
       "      <td>0</td>\n",
       "      <td>0</td>\n",
       "      <td>0</td>\n",
       "      <td>0</td>\n",
       "      <td>0</td>\n",
       "    </tr>\n",
       "    <tr>\n",
       "      <th>3</th>\n",
       "      <td>1</td>\n",
       "      <td>2</td>\n",
       "      <td>4</td>\n",
       "      <td>1.0</td>\n",
       "      <td>2</td>\n",
       "      <td>0</td>\n",
       "      <td>0</td>\n",
       "      <td>0</td>\n",
       "      <td>1</td>\n",
       "      <td>0</td>\n",
       "      <td>...</td>\n",
       "      <td>0</td>\n",
       "      <td>0</td>\n",
       "      <td>0</td>\n",
       "      <td>0</td>\n",
       "      <td>0</td>\n",
       "      <td>0</td>\n",
       "      <td>0</td>\n",
       "      <td>0</td>\n",
       "      <td>0</td>\n",
       "      <td>0</td>\n",
       "    </tr>\n",
       "    <tr>\n",
       "      <th>4</th>\n",
       "      <td>1</td>\n",
       "      <td>1</td>\n",
       "      <td>6</td>\n",
       "      <td>3.0</td>\n",
       "      <td>0</td>\n",
       "      <td>0</td>\n",
       "      <td>0</td>\n",
       "      <td>0</td>\n",
       "      <td>5</td>\n",
       "      <td>0</td>\n",
       "      <td>...</td>\n",
       "      <td>0</td>\n",
       "      <td>0</td>\n",
       "      <td>0</td>\n",
       "      <td>0</td>\n",
       "      <td>0</td>\n",
       "      <td>0</td>\n",
       "      <td>0</td>\n",
       "      <td>0</td>\n",
       "      <td>0</td>\n",
       "      <td>0</td>\n",
       "    </tr>\n",
       "    <tr>\n",
       "      <th>...</th>\n",
       "      <td>...</td>\n",
       "      <td>...</td>\n",
       "      <td>...</td>\n",
       "      <td>...</td>\n",
       "      <td>...</td>\n",
       "      <td>...</td>\n",
       "      <td>...</td>\n",
       "      <td>...</td>\n",
       "      <td>...</td>\n",
       "      <td>...</td>\n",
       "      <td>...</td>\n",
       "      <td>...</td>\n",
       "      <td>...</td>\n",
       "      <td>...</td>\n",
       "      <td>...</td>\n",
       "      <td>...</td>\n",
       "      <td>...</td>\n",
       "      <td>...</td>\n",
       "      <td>...</td>\n",
       "      <td>...</td>\n",
       "      <td>...</td>\n",
       "    </tr>\n",
       "    <tr>\n",
       "      <th>54803</th>\n",
       "      <td>1</td>\n",
       "      <td>1</td>\n",
       "      <td>6</td>\n",
       "      <td>3.0</td>\n",
       "      <td>4</td>\n",
       "      <td>0</td>\n",
       "      <td>0</td>\n",
       "      <td>0</td>\n",
       "      <td>6</td>\n",
       "      <td>0</td>\n",
       "      <td>...</td>\n",
       "      <td>0</td>\n",
       "      <td>0</td>\n",
       "      <td>0</td>\n",
       "      <td>0</td>\n",
       "      <td>0</td>\n",
       "      <td>0</td>\n",
       "      <td>0</td>\n",
       "      <td>0</td>\n",
       "      <td>0</td>\n",
       "      <td>0</td>\n",
       "    </tr>\n",
       "    <tr>\n",
       "      <th>54804</th>\n",
       "      <td>2</td>\n",
       "      <td>1</td>\n",
       "      <td>4</td>\n",
       "      <td>2.0</td>\n",
       "      <td>1</td>\n",
       "      <td>0</td>\n",
       "      <td>0</td>\n",
       "      <td>0</td>\n",
       "      <td>2</td>\n",
       "      <td>0</td>\n",
       "      <td>...</td>\n",
       "      <td>0</td>\n",
       "      <td>0</td>\n",
       "      <td>0</td>\n",
       "      <td>0</td>\n",
       "      <td>0</td>\n",
       "      <td>0</td>\n",
       "      <td>0</td>\n",
       "      <td>0</td>\n",
       "      <td>0</td>\n",
       "      <td>0</td>\n",
       "    </tr>\n",
       "    <tr>\n",
       "      <th>54805</th>\n",
       "      <td>1</td>\n",
       "      <td>1</td>\n",
       "      <td>1</td>\n",
       "      <td>5.0</td>\n",
       "      <td>0</td>\n",
       "      <td>1</td>\n",
       "      <td>0</td>\n",
       "      <td>0</td>\n",
       "      <td>6</td>\n",
       "      <td>0</td>\n",
       "      <td>...</td>\n",
       "      <td>0</td>\n",
       "      <td>0</td>\n",
       "      <td>0</td>\n",
       "      <td>0</td>\n",
       "      <td>0</td>\n",
       "      <td>0</td>\n",
       "      <td>0</td>\n",
       "      <td>0</td>\n",
       "      <td>0</td>\n",
       "      <td>0</td>\n",
       "    </tr>\n",
       "    <tr>\n",
       "      <th>54806</th>\n",
       "      <td>1</td>\n",
       "      <td>1</td>\n",
       "      <td>2</td>\n",
       "      <td>1.0</td>\n",
       "      <td>0</td>\n",
       "      <td>0</td>\n",
       "      <td>0</td>\n",
       "      <td>0</td>\n",
       "      <td>0</td>\n",
       "      <td>0</td>\n",
       "      <td>...</td>\n",
       "      <td>0</td>\n",
       "      <td>0</td>\n",
       "      <td>0</td>\n",
       "      <td>0</td>\n",
       "      <td>0</td>\n",
       "      <td>0</td>\n",
       "      <td>0</td>\n",
       "      <td>0</td>\n",
       "      <td>0</td>\n",
       "      <td>1</td>\n",
       "    </tr>\n",
       "    <tr>\n",
       "      <th>54807</th>\n",
       "      <td>1</td>\n",
       "      <td>1</td>\n",
       "      <td>1</td>\n",
       "      <td>1.0</td>\n",
       "      <td>1</td>\n",
       "      <td>0</td>\n",
       "      <td>0</td>\n",
       "      <td>0</td>\n",
       "      <td>1</td>\n",
       "      <td>0</td>\n",
       "      <td>...</td>\n",
       "      <td>0</td>\n",
       "      <td>0</td>\n",
       "      <td>0</td>\n",
       "      <td>0</td>\n",
       "      <td>0</td>\n",
       "      <td>0</td>\n",
       "      <td>0</td>\n",
       "      <td>0</td>\n",
       "      <td>0</td>\n",
       "      <td>0</td>\n",
       "    </tr>\n",
       "  </tbody>\n",
       "</table>\n",
       "<p>54808 rows × 53 columns</p>\n",
       "</div>"
      ],
      "text/plain": [
       "       education  no_of_trainings age  previous_year_rating length_of_service   \n",
       "0              2                1   3                   5.0                 1  \\\n",
       "1              1                1   2                   5.0                 0   \n",
       "2              1                1   3                   3.0                 1   \n",
       "3              1                2   4                   1.0                 2   \n",
       "4              1                1   6                   3.0                 0   \n",
       "...          ...              ...  ..                   ...               ...   \n",
       "54803          1                1   6                   3.0                 4   \n",
       "54804          2                1   4                   2.0                 1   \n",
       "54805          1                1   1                   5.0                 0   \n",
       "54806          1                1   2                   1.0                 0   \n",
       "54807          1                1   1                   1.0                 1   \n",
       "\n",
       "       kpi_abv_80  awards_won  is_promoted traing_score  dept_Finance  ...   \n",
       "0               1           0            0            1             0  ...  \\\n",
       "1               0           0            0            3             0  ...   \n",
       "2               0           0            0            1             0  ...   \n",
       "3               0           0            0            1             0  ...   \n",
       "4               0           0            0            5             0  ...   \n",
       "...           ...         ...          ...          ...           ...  ...   \n",
       "54803           0           0            0            6             0  ...   \n",
       "54804           0           0            0            2             0  ...   \n",
       "54805           1           0            0            6             0  ...   \n",
       "54806           0           0            0            0             0  ...   \n",
       "54807           0           0            0            1             0  ...   \n",
       "\n",
       "       region_region_31  region_region_32  region_region_33  region_region_34   \n",
       "0                     0                 0                 0                 0  \\\n",
       "1                     0                 0                 0                 0   \n",
       "2                     0                 0                 0                 0   \n",
       "3                     0                 0                 0                 0   \n",
       "4                     0                 0                 0                 0   \n",
       "...                 ...               ...               ...               ...   \n",
       "54803                 0                 0                 0                 0   \n",
       "54804                 0                 0                 0                 0   \n",
       "54805                 0                 0                 0                 0   \n",
       "54806                 0                 0                 0                 0   \n",
       "54807                 0                 0                 0                 0   \n",
       "\n",
       "       region_region_4  region_region_5  region_region_6  region_region_7   \n",
       "0                    0                0                0                1  \\\n",
       "1                    0                0                0                0   \n",
       "2                    0                0                0                0   \n",
       "3                    0                0                0                0   \n",
       "4                    0                0                0                0   \n",
       "...                ...              ...              ...              ...   \n",
       "54803                0                0                0                0   \n",
       "54804                0                0                0                0   \n",
       "54805                0                0                0                0   \n",
       "54806                0                0                0                0   \n",
       "54807                0                0                0                0   \n",
       "\n",
       "       region_region_8  region_region_9  \n",
       "0                    0                0  \n",
       "1                    0                0  \n",
       "2                    0                0  \n",
       "3                    0                0  \n",
       "4                    0                0  \n",
       "...                ...              ...  \n",
       "54803                0                0  \n",
       "54804                0                0  \n",
       "54805                0                0  \n",
       "54806                0                1  \n",
       "54807                0                0  \n",
       "\n",
       "[54808 rows x 53 columns]"
      ]
     },
     "execution_count": 78,
     "metadata": {},
     "output_type": "execute_result"
    }
   ],
   "source": [
    "# as \"department\" , \"gender,\"recruitment_channel\" ,\"region\" are nominal we do one hot encoding.\n",
    "\n",
    "df1 = pd.get_dummies(df , columns = [\"department\",\"gender\",\"recruitment_channel\",\"region\"],prefix=[\"dept\",\"gender\",\"recruit_channel\",\"region\"],drop_first=True,dtype=int)\n",
    "\n",
    "df1.drop([\"employee_id\"] ,axis = 1,inplace=True)\n",
    "df1"
   ]
  },
  {
   "cell_type": "code",
   "execution_count": 79,
   "id": "abc5b4fc",
   "metadata": {},
   "outputs": [
    {
     "data": {
      "text/plain": [
       "is_promoted\n",
       "0    50140\n",
       "1     4668\n",
       "Name: count, dtype: int64"
      ]
     },
     "execution_count": 79,
     "metadata": {},
     "output_type": "execute_result"
    }
   ],
   "source": [
    "# here we have an imbalanced dataset\n",
    "\n",
    "df1.is_promoted.value_counts()"
   ]
  },
  {
   "cell_type": "code",
   "execution_count": null,
   "id": "41196be5",
   "metadata": {},
   "outputs": [],
   "source": []
  },
  {
   "cell_type": "code",
   "execution_count": 80,
   "id": "dfa88844",
   "metadata": {},
   "outputs": [],
   "source": [
    "df1 = df1.astype('int32')"
   ]
  },
  {
   "cell_type": "code",
   "execution_count": 81,
   "id": "add70232",
   "metadata": {
    "scrolled": true
   },
   "outputs": [
    {
     "data": {
      "text/plain": [
       "Index(['education', 'no_of_trainings', 'age', 'previous_year_rating',\n",
       "       'length_of_service', 'kpi_abv_80', 'awards_won', 'is_promoted',\n",
       "       'traing_score', 'dept_Finance', 'dept_HR', 'dept_Legal',\n",
       "       'dept_Operations', 'dept_Procurement', 'dept_R&D',\n",
       "       'dept_Sales & Marketing', 'dept_Technology', 'gender_m',\n",
       "       'recruit_channel_referred', 'recruit_channel_sourcing',\n",
       "       'region_region_10', 'region_region_11', 'region_region_12',\n",
       "       'region_region_13', 'region_region_14', 'region_region_15',\n",
       "       'region_region_16', 'region_region_17', 'region_region_18',\n",
       "       'region_region_19', 'region_region_2', 'region_region_20',\n",
       "       'region_region_21', 'region_region_22', 'region_region_23',\n",
       "       'region_region_24', 'region_region_25', 'region_region_26',\n",
       "       'region_region_27', 'region_region_28', 'region_region_29',\n",
       "       'region_region_3', 'region_region_30', 'region_region_31',\n",
       "       'region_region_32', 'region_region_33', 'region_region_34',\n",
       "       'region_region_4', 'region_region_5', 'region_region_6',\n",
       "       'region_region_7', 'region_region_8', 'region_region_9'],\n",
       "      dtype='object')"
      ]
     },
     "execution_count": 81,
     "metadata": {},
     "output_type": "execute_result"
    }
   ],
   "source": [
    "df1.columns"
   ]
  },
  {
   "cell_type": "code",
   "execution_count": 82,
   "id": "7970d766",
   "metadata": {},
   "outputs": [
    {
     "data": {
      "text/plain": [
       "'recruit_channel_sourcing'"
      ]
     },
     "execution_count": 82,
     "metadata": {},
     "output_type": "execute_result"
    }
   ],
   "source": [
    "df1.columns[19]"
   ]
  },
  {
   "cell_type": "code",
   "execution_count": 83,
   "id": "5cfa4066",
   "metadata": {
    "scrolled": true
   },
   "outputs": [],
   "source": [
    "# if our data has categorical , ordinal and discrete then SMOTENC is used else SMOTE or ADASYN\n",
    "\n",
    "from imblearn.over_sampling import SMOTENC\n",
    "\n",
    "categorical_indices = [i for i in range(5,19) if i not in [7,8]]\n",
    "ordinal_indices = [0,1,2,3,4,8]\n",
    "\n",
    "# if we had any discrete variable we would also include this\n",
    "# but we have converted the discrete to bins and now the are ordinal\n",
    "# discrete_index = [1]\n",
    "\n",
    "# smotenc = SMOTENC(categorical_features=categorical_indices + ordinal_indices + discrete_index,n_jobs=-1)\n",
    "\n",
    "smotenc = SMOTENC(categorical_features=categorical_indices + ordinal_indices,n_jobs=-1)\n",
    "\n",
    "# Apply SMOTENC to your dataset\n",
    "x_smote, y_smote = smotenc.fit_resample(df1.drop('is_promoted', axis=1),df1.is_promoted)\n"
   ]
  },
  {
   "cell_type": "code",
   "execution_count": 84,
   "id": "8d6b133b",
   "metadata": {},
   "outputs": [
    {
     "name": "stdout",
     "output_type": "stream",
     "text": [
      "(100280, 52)\n",
      "(100280,)\n",
      "(array([0, 1]), array([50140, 50140], dtype=int64))\n"
     ]
    }
   ],
   "source": [
    "print(x_smote.shape)\n",
    "print(y_smote.shape)\n",
    "print(np.unique(y_smote,return_counts=True))"
   ]
  },
  {
   "cell_type": "code",
   "execution_count": null,
   "id": "97cd7b99",
   "metadata": {},
   "outputs": [],
   "source": []
  },
  {
   "cell_type": "code",
   "execution_count": null,
   "id": "e87181af",
   "metadata": {},
   "outputs": [],
   "source": []
  },
  {
   "cell_type": "code",
   "execution_count": 85,
   "id": "403123de",
   "metadata": {},
   "outputs": [],
   "source": [
    "from sklearn.linear_model import LogisticRegression\n",
    "from sklearn.svm import SVC\n",
    "from sklearn.ensemble import RandomForestClassifier\n",
    "from sklearn.neighbors import KNeighborsClassifier\n",
    "from sklearn.naive_bayes import GaussianNB ,MultinomialNB,BernoulliNB\n",
    "from sklearn.tree import DecisionTreeClassifier\n",
    "from sklearn.linear_model import SGDClassifier\n",
    "from xgboost import XGBClassifier\n",
    "from sklearn.ensemble import AdaBoostClassifier, RandomForestClassifier , ExtraTreesClassifier , BaggingClassifier\n",
    "from sklearn.metrics import f1_score , confusion_matrix , recall_score\n",
    "import time"
   ]
  },
  {
   "cell_type": "code",
   "execution_count": 86,
   "id": "0441c4fb",
   "metadata": {},
   "outputs": [
    {
     "name": "stdout",
     "output_type": "stream",
     "text": [
      "(75210, 52) (75210,)\n",
      "(25070, 52) (25070,)\n"
     ]
    }
   ],
   "source": [
    "from sklearn.model_selection import train_test_split\n",
    "x_train, x_test, y_train, y_test = train_test_split(x_smote,y_smote,test_size=0.25,stratify=y_smote)\n",
    "print (x_train.shape, y_train.shape)\n",
    "print (x_test.shape, y_test.shape)"
   ]
  },
  {
   "cell_type": "code",
   "execution_count": 33,
   "id": "69aecbbb",
   "metadata": {},
   "outputs": [
    {
     "data": {
      "application/javascript": [
       "\n",
       "        if (window._pyforest_update_imports_cell) { window._pyforest_update_imports_cell('from sklearn.ensemble import GradientBoostingClassifier'); }\n",
       "    "
      ],
      "text/plain": [
       "<IPython.core.display.Javascript object>"
      ]
     },
     "metadata": {},
     "output_type": "display_data"
    }
   ],
   "source": [
    "svc = SVC(kernel='sigmoid', gamma=1.0)\n",
    "knc = KNeighborsClassifier()\n",
    "mnb = MultinomialNB()\n",
    "dtc = DecisionTreeClassifier(max_depth=5)\n",
    "lrc = LogisticRegression(solver='liblinear', penalty='l1')\n",
    "rfc = RandomForestClassifier(n_estimators=50, random_state=2)\n",
    "abc = AdaBoostClassifier(n_estimators=50, random_state=2)\n",
    "bc = BaggingClassifier(n_estimators=50, random_state=2)\n",
    "etc = ExtraTreesClassifier(n_estimators=50, random_state=2)\n",
    "gbdt = GradientBoostingClassifier(n_estimators=50,random_state=2)\n",
    "xgb = XGBClassifier(n_estimators=50,random_state=2)"
   ]
  },
  {
   "cell_type": "code",
   "execution_count": 34,
   "id": "e5b3a99f",
   "metadata": {},
   "outputs": [],
   "source": [
    "# not including svm as its taking long time\n",
    "clfs = {'KN' : knc, 'NB': mnb,'DT': dtc, 'LR': lrc, 'RF': rfc, 'AdaBoost': abc, 'Bc': bc, 'ETC': etc,'GBDT':gbdt,'xgb':xgb ,\"svc\" : svc}"
   ]
  },
  {
   "cell_type": "code",
   "execution_count": 35,
   "id": "f6e6bb0d",
   "metadata": {},
   "outputs": [],
   "source": [
    "def train_classifier(clf,x_train,y_train,x_test,y_test):\n",
    "    clf.fit(x_train,y_train)\n",
    "    y_pred = clf.predict(x_test)\n",
    "    \n",
    "    f1_train = f1_score(y_train,clf.predict(x_train))\n",
    "    recall_train = recall_score(y_train,clf.predict(x_train))\n",
    "\n",
    "    f1_test = f1_score(y_test,y_pred)\n",
    "    recall_test = recall_score(y_test,y_pred)\n",
    "    \n",
    "    return f1_train , recall_train , f1_test , recall_test"
   ]
  },
  {
   "cell_type": "code",
   "execution_count": 36,
   "id": "01a350d2",
   "metadata": {
    "scrolled": true
   },
   "outputs": [
    {
     "name": "stdout",
     "output_type": "stream",
     "text": [
      "For  KN\n",
      "      f1_train  0.9270365699873897\n",
      "      recall_train  0.9774498072064886\n",
      "      f1_test  0.9031013503487164\n",
      "      recall_test  0.9710410849621061 \n",
      "\n",
      "For  NB\n",
      "      f1_train  0.7201943969451907\n",
      "      recall_train  0.7447945751894695\n",
      "      f1_test  0.7171080610864101\n",
      "      recall_test  0.7398484244116473 \n",
      "\n",
      "For  DT\n",
      "      f1_train  0.8271841812604641\n",
      "      recall_train  0.8999601116872756\n",
      "      f1_test  0.822411461569387\n",
      "      recall_test  0.8975668129238134 \n",
      "\n",
      "For  LR\n",
      "      f1_train  0.8130479364265573\n",
      "      recall_train  0.8434250764525993\n",
      "      f1_test  0.8089715031876488\n",
      "      recall_test  0.8402074192261667 \n",
      "\n",
      "For  RF\n",
      "      f1_train  0.9836000894301458\n",
      "      recall_train  0.994415636218588\n",
      "      f1_test  0.9434006853361692\n",
      "      recall_test  0.9554048663741523 \n",
      "\n",
      "For  AdaBoost\n",
      "      f1_train  0.8172289423314801\n",
      "      recall_train  0.834516686610823\n",
      "      f1_test  0.8120353705297754\n",
      "      recall_test  0.8278420422816115 \n",
      "\n",
      "For  Bc\n",
      "      f1_train  0.9835367136545341\n",
      "      recall_train  0.9944954128440368\n",
      "      f1_test  0.9372999141094713\n",
      "      recall_test  0.9576386118867172 \n",
      "\n",
      "For  ETC\n",
      "      f1_train  0.9836139051109324\n",
      "      recall_train  0.9920755218720915\n",
      "      f1_test  0.9437650876568127\n",
      "      recall_test  0.9512564818508177 \n",
      "\n",
      "For  GBDT\n",
      "      f1_train  0.8421247867052453\n",
      "      recall_train  0.9055444754686877\n",
      "      f1_test  0.83598431604646\n",
      "      recall_test  0.9014758675708018 \n",
      "\n",
      "For  xgb\n",
      "      f1_train  0.8983117194701552\n",
      "      recall_train  0.945884855737269\n",
      "      f1_test  0.8896533474464144\n",
      "      recall_test  0.9387315516553649 \n",
      "\n",
      "For  svc\n",
      "      f1_train  5.29913624079275e-05\n",
      "      recall_train  2.6592208482914504e-05\n",
      "      f1_test  0.0\n",
      "      recall_test  0.0 \n",
      "\n",
      "total time taken to complete training fo all models is  : 47.97082267602285\n"
     ]
    }
   ],
   "source": [
    "# promoted is 1 and not promoted is 0\n",
    "# we are considering recall in this case because we may have two models with same f1-score \n",
    "# then we will select the one with better recall\n",
    "# this is beacuse we dont want our model predict an employee as not promoted to an employee who is actually promoted .\n",
    "# this will bring down the morale of loyal and hardworking employees\n",
    "# the more that happens the more goes down the morale of hard working a loyal employees .\n",
    "\n",
    "time.sleep(1)\n",
    "start_ = time.time()\n",
    "\n",
    "f1_scores_train = []\n",
    "recall_scores_train = []\n",
    "f1_scores_test = []\n",
    "recall_scores_test = []\n",
    "\n",
    "for name,clf in clfs.items():\n",
    "    \n",
    "    f1_train , recall_train , f1_test , recall_test = train_classifier(clf, x_train,y_train,x_test,y_test)\n",
    "    \n",
    "    print(\"For \",name)\n",
    "    print(\"      f1_train \",f1_train)\n",
    "    print(\"      recall_train \",recall_train)\n",
    "    print(\"      f1_test \",f1_test)\n",
    "    print(\"      recall_test \",recall_test,'\\n')\n",
    "\n",
    "    f1_scores_train.append(f1_train)\n",
    "    recall_scores_train.append(recall_train)\n",
    "    f1_scores_test.append(f1_test)\n",
    "    recall_scores_test.append(recall_test)\n",
    "\n",
    "    \n",
    "print(f\"total time taken to complete training fo all models is  : {(time.time()-start_)/60}\")"
   ]
  },
  {
   "cell_type": "code",
   "execution_count": null,
   "id": "70ecb75e",
   "metadata": {},
   "outputs": [],
   "source": []
  },
  {
   "cell_type": "code",
   "execution_count": 37,
   "id": "ffcb9b12",
   "metadata": {},
   "outputs": [],
   "source": [
    "# this is the performance considering region variable\n",
    "performance_df = pd.DataFrame({'Algorithm':clfs.keys(),'f1_train':f1_scores_train,'recall_train':recall_scores_train,'f1_test':f1_scores_test,'recall_test':recall_scores_test}).sort_values('f1_test',ascending=False)"
   ]
  },
  {
   "cell_type": "code",
   "execution_count": 38,
   "id": "7c614d5d",
   "metadata": {},
   "outputs": [
    {
     "data": {
      "text/html": [
       "<div>\n",
       "<style scoped>\n",
       "    .dataframe tbody tr th:only-of-type {\n",
       "        vertical-align: middle;\n",
       "    }\n",
       "\n",
       "    .dataframe tbody tr th {\n",
       "        vertical-align: top;\n",
       "    }\n",
       "\n",
       "    .dataframe thead th {\n",
       "        text-align: right;\n",
       "    }\n",
       "</style>\n",
       "<table border=\"1\" class=\"dataframe\">\n",
       "  <thead>\n",
       "    <tr style=\"text-align: right;\">\n",
       "      <th></th>\n",
       "      <th>Algorithm</th>\n",
       "      <th>f1_train</th>\n",
       "      <th>recall_train</th>\n",
       "      <th>f1_test</th>\n",
       "      <th>recall_test</th>\n",
       "    </tr>\n",
       "  </thead>\n",
       "  <tbody>\n",
       "    <tr>\n",
       "      <th>7</th>\n",
       "      <td>ETC</td>\n",
       "      <td>0.983614</td>\n",
       "      <td>0.992076</td>\n",
       "      <td>0.943765</td>\n",
       "      <td>0.951256</td>\n",
       "    </tr>\n",
       "    <tr>\n",
       "      <th>4</th>\n",
       "      <td>RF</td>\n",
       "      <td>0.983600</td>\n",
       "      <td>0.994416</td>\n",
       "      <td>0.943401</td>\n",
       "      <td>0.955405</td>\n",
       "    </tr>\n",
       "    <tr>\n",
       "      <th>6</th>\n",
       "      <td>Bc</td>\n",
       "      <td>0.983537</td>\n",
       "      <td>0.994495</td>\n",
       "      <td>0.937300</td>\n",
       "      <td>0.957639</td>\n",
       "    </tr>\n",
       "    <tr>\n",
       "      <th>0</th>\n",
       "      <td>KN</td>\n",
       "      <td>0.927037</td>\n",
       "      <td>0.977450</td>\n",
       "      <td>0.903101</td>\n",
       "      <td>0.971041</td>\n",
       "    </tr>\n",
       "    <tr>\n",
       "      <th>9</th>\n",
       "      <td>xgb</td>\n",
       "      <td>0.898312</td>\n",
       "      <td>0.945885</td>\n",
       "      <td>0.889653</td>\n",
       "      <td>0.938732</td>\n",
       "    </tr>\n",
       "    <tr>\n",
       "      <th>8</th>\n",
       "      <td>GBDT</td>\n",
       "      <td>0.842125</td>\n",
       "      <td>0.905544</td>\n",
       "      <td>0.835984</td>\n",
       "      <td>0.901476</td>\n",
       "    </tr>\n",
       "    <tr>\n",
       "      <th>2</th>\n",
       "      <td>DT</td>\n",
       "      <td>0.827184</td>\n",
       "      <td>0.899960</td>\n",
       "      <td>0.822411</td>\n",
       "      <td>0.897567</td>\n",
       "    </tr>\n",
       "    <tr>\n",
       "      <th>5</th>\n",
       "      <td>AdaBoost</td>\n",
       "      <td>0.817229</td>\n",
       "      <td>0.834517</td>\n",
       "      <td>0.812035</td>\n",
       "      <td>0.827842</td>\n",
       "    </tr>\n",
       "    <tr>\n",
       "      <th>3</th>\n",
       "      <td>LR</td>\n",
       "      <td>0.813048</td>\n",
       "      <td>0.843425</td>\n",
       "      <td>0.808972</td>\n",
       "      <td>0.840207</td>\n",
       "    </tr>\n",
       "    <tr>\n",
       "      <th>1</th>\n",
       "      <td>NB</td>\n",
       "      <td>0.720194</td>\n",
       "      <td>0.744795</td>\n",
       "      <td>0.717108</td>\n",
       "      <td>0.739848</td>\n",
       "    </tr>\n",
       "    <tr>\n",
       "      <th>10</th>\n",
       "      <td>svc</td>\n",
       "      <td>0.000053</td>\n",
       "      <td>0.000027</td>\n",
       "      <td>0.000000</td>\n",
       "      <td>0.000000</td>\n",
       "    </tr>\n",
       "  </tbody>\n",
       "</table>\n",
       "</div>"
      ],
      "text/plain": [
       "   Algorithm  f1_train  recall_train   f1_test  recall_test\n",
       "7        ETC  0.983614      0.992076  0.943765     0.951256\n",
       "4         RF  0.983600      0.994416  0.943401     0.955405\n",
       "6         Bc  0.983537      0.994495  0.937300     0.957639\n",
       "0         KN  0.927037      0.977450  0.903101     0.971041\n",
       "9        xgb  0.898312      0.945885  0.889653     0.938732\n",
       "8       GBDT  0.842125      0.905544  0.835984     0.901476\n",
       "2         DT  0.827184      0.899960  0.822411     0.897567\n",
       "5   AdaBoost  0.817229      0.834517  0.812035     0.827842\n",
       "3         LR  0.813048      0.843425  0.808972     0.840207\n",
       "1         NB  0.720194      0.744795  0.717108     0.739848\n",
       "10       svc  0.000053      0.000027  0.000000     0.000000"
      ]
     },
     "execution_count": 38,
     "metadata": {},
     "output_type": "execute_result"
    }
   ],
   "source": [
    "performance_df"
   ]
  },
  {
   "cell_type": "code",
   "execution_count": null,
   "id": "fe8331ee",
   "metadata": {},
   "outputs": [],
   "source": []
  },
  {
   "cell_type": "code",
   "execution_count": null,
   "id": "0951010e",
   "metadata": {},
   "outputs": [],
   "source": []
  },
  {
   "cell_type": "code",
   "execution_count": 39,
   "id": "dd092029",
   "metadata": {},
   "outputs": [],
   "source": [
    "# Voting Classifier\n",
    "# etc , rfc and bgc performed best so we select those three for voting classifier and stacking classifier\n",
    "\n",
    "etc = ExtraTreesClassifier(n_estimators=50, random_state=2)\n",
    "rfc = RandomForestClassifier(n_estimators=50, random_state=2)\n",
    "bc = BaggingClassifier(n_estimators=50, random_state=2)\n",
    "\n",
    "from sklearn.ensemble import VotingClassifier"
   ]
  },
  {
   "cell_type": "code",
   "execution_count": 40,
   "id": "a08d7fe4",
   "metadata": {},
   "outputs": [],
   "source": [
    "voting = VotingClassifier(estimators=[('bgc', bc), ('rf', rfc), ('et', etc)],voting='soft')"
   ]
  },
  {
   "cell_type": "code",
   "execution_count": 42,
   "id": "f2a74210",
   "metadata": {},
   "outputs": [
    {
     "data": {
      "text/plain": [
       "VotingClassifier(estimators=[('bgc',\n",
       "                              BaggingClassifier(n_estimators=50,\n",
       "                                                random_state=2)),\n",
       "                             ('rf',\n",
       "                              RandomForestClassifier(n_estimators=50,\n",
       "                                                     random_state=2)),\n",
       "                             ('et',\n",
       "                              ExtraTreesClassifier(n_estimators=50,\n",
       "                                                   random_state=2))],\n",
       "                 voting='soft')"
      ]
     },
     "execution_count": 42,
     "metadata": {},
     "output_type": "execute_result"
    }
   ],
   "source": [
    "voting.fit(x_train,y_train)"
   ]
  },
  {
   "cell_type": "code",
   "execution_count": 43,
   "id": "465b16f8",
   "metadata": {},
   "outputs": [
    {
     "name": "stdout",
     "output_type": "stream",
     "text": [
      "f1_score 0.9443701314029428\n",
      "recall 0.9574790586358197\n"
     ]
    }
   ],
   "source": [
    "y_pred = voting.predict(x_test)\n",
    "print(\"f1_score\",f1_score(y_test,y_pred))\n",
    "print(\"recall\",recall_score(y_test,y_pred))"
   ]
  },
  {
   "cell_type": "code",
   "execution_count": null,
   "id": "7de9e73d",
   "metadata": {},
   "outputs": [],
   "source": []
  },
  {
   "cell_type": "code",
   "execution_count": null,
   "id": "a7d1de08",
   "metadata": {},
   "outputs": [],
   "source": []
  },
  {
   "cell_type": "code",
   "execution_count": 44,
   "id": "9df1eefd",
   "metadata": {},
   "outputs": [],
   "source": [
    "# Applying stacking\n",
    "etc = ExtraTreesClassifier(n_estimators=50, random_state=2)\n",
    "rfc = RandomForestClassifier(n_estimators=50, random_state=2)\n",
    "bc = BaggingClassifier(n_estimators=50, random_state=2)\n",
    "xgb = XGBClassifier(n_estimators=50,random_state=2)\n",
    "\n",
    "estimators=[('bgc', bc), ('rf', rfc), ('et', etc)]\n",
    "final_estimator=RandomForestClassifier()"
   ]
  },
  {
   "cell_type": "code",
   "execution_count": 45,
   "id": "4cd689a2",
   "metadata": {},
   "outputs": [],
   "source": [
    "from sklearn.ensemble import StackingClassifier"
   ]
  },
  {
   "cell_type": "code",
   "execution_count": 46,
   "id": "08c14dd5",
   "metadata": {},
   "outputs": [],
   "source": [
    "clf = StackingClassifier(estimators=estimators, final_estimator=final_estimator)"
   ]
  },
  {
   "cell_type": "code",
   "execution_count": 47,
   "id": "2c841ef0",
   "metadata": {},
   "outputs": [
    {
     "name": "stdout",
     "output_type": "stream",
     "text": [
      "f1_score 0.9454283772438332\n",
      "recall 0.9432788193059434\n"
     ]
    }
   ],
   "source": [
    "clf.fit(x_train,y_train)\n",
    "y_pred = clf.predict(x_test)\n",
    "\n",
    "print(\"f1_score\",f1_score(y_test,y_pred))\n",
    "print(\"recall\",recall_score(y_test,y_pred))"
   ]
  },
  {
   "cell_type": "code",
   "execution_count": 53,
   "id": "5d16ea79",
   "metadata": {},
   "outputs": [
    {
     "name": "stdout",
     "output_type": "stream",
     "text": [
      "<bound method _BaseHeterogeneousEnsemble.get_params of StackingClassifier(estimators=[('bgc',\n",
      "                                BaggingClassifier(n_estimators=50,\n",
      "                                                  random_state=2)),\n",
      "                               ('rf',\n",
      "                                RandomForestClassifier(n_estimators=50,\n",
      "                                                       random_state=2)),\n",
      "                               ('et',\n",
      "                                ExtraTreesClassifier(n_estimators=50,\n",
      "                                                     random_state=2))],\n",
      "                   final_estimator=RandomForestClassifier())>\n"
     ]
    }
   ],
   "source": [
    "print(clf.get_params)"
   ]
  },
  {
   "cell_type": "code",
   "execution_count": null,
   "id": "bcdbcdac",
   "metadata": {},
   "outputs": [],
   "source": []
  },
  {
   "cell_type": "code",
   "execution_count": null,
   "id": "9bbc6863",
   "metadata": {},
   "outputs": [],
   "source": []
  },
  {
   "cell_type": "code",
   "execution_count": null,
   "id": "320ee040",
   "metadata": {},
   "outputs": [],
   "source": []
  },
  {
   "cell_type": "code",
   "execution_count": null,
   "id": "ffc63290",
   "metadata": {},
   "outputs": [],
   "source": [
    "# this are the best parameters for RFC using GRIDsearchCV"
   ]
  },
  {
   "cell_type": "code",
   "execution_count": 87,
   "id": "99cbf82d",
   "metadata": {},
   "outputs": [
    {
     "data": {
      "text/plain": [
       "RandomForestClassifier(bootstrap=False, criterion='entropy',\n",
       "                       max_features='log2', min_samples_split=5,\n",
       "                       n_estimators=300, n_jobs=-1, random_state=123)"
      ]
     },
     "execution_count": 87,
     "metadata": {},
     "output_type": "execute_result"
    }
   ],
   "source": [
    "rfc = RandomForestClassifier(bootstrap=False, criterion='entropy',\n",
    "                       max_features='log2', min_samples_split=5,\n",
    "                       n_estimators=300, n_jobs=-1, random_state=123)\n",
    "\n",
    "rfc.fit(x_train,y_train)"
   ]
  },
  {
   "cell_type": "code",
   "execution_count": 88,
   "id": "8feabd74",
   "metadata": {},
   "outputs": [
    {
     "name": "stdout",
     "output_type": "stream",
     "text": [
      "0.9820278686794046\n",
      "0.9455903978379236\n"
     ]
    }
   ],
   "source": [
    "print(f1_score(y_train,rfc.predict(x_train)))\n",
    "print(f1_score(y_test,rfc.predict(x_test)))"
   ]
  },
  {
   "cell_type": "code",
   "execution_count": 89,
   "id": "a0fe5f99",
   "metadata": {},
   "outputs": [
    {
     "name": "stdout",
     "output_type": "stream",
     "text": [
      "test_recall 0.9490227363382528\n"
     ]
    }
   ],
   "source": [
    "print(\"test_recall\",recall_score(y_test,rfc.predict(x_test)))"
   ]
  },
  {
   "cell_type": "code",
   "execution_count": null,
   "id": "7950c4b0",
   "metadata": {},
   "outputs": [],
   "source": []
  },
  {
   "cell_type": "markdown",
   "id": "5505af19",
   "metadata": {},
   "source": [
    "# RFC with the above parameter fperforms best"
   ]
  },
  {
   "cell_type": "code",
   "execution_count": null,
   "id": "865278f4",
   "metadata": {},
   "outputs": [],
   "source": []
  },
  {
   "cell_type": "code",
   "execution_count": null,
   "id": "7d2a49e4",
   "metadata": {},
   "outputs": [],
   "source": []
  }
 ],
 "metadata": {
  "kernelspec": {
   "display_name": "Python 3 (ipykernel)",
   "language": "python",
   "name": "python3"
  },
  "language_info": {
   "codemirror_mode": {
    "name": "ipython",
    "version": 3
   },
   "file_extension": ".py",
   "mimetype": "text/x-python",
   "name": "python",
   "nbconvert_exporter": "python",
   "pygments_lexer": "ipython3",
   "version": "3.9.13"
  }
 },
 "nbformat": 4,
 "nbformat_minor": 5
}
